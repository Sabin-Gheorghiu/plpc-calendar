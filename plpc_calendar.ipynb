{
 "cells": [
  {
   "cell_type": "code",
   "execution_count": null,
   "metadata": {},
   "outputs": [],
   "source": [
    "#PLPC  Proiectul lui Paul Cuc\n"
   ]
  },
  {
   "cell_type": "code",
   "execution_count": 2,
   "metadata": {},
   "outputs": [
    {
     "ename": "NameError",
     "evalue": "name 'service' is not defined",
     "output_type": "error",
     "traceback": [
      "\u001b[0;31m---------------------------------------------------------------------------\u001b[0m",
      "\u001b[0;31mNameError\u001b[0m                                 Traceback (most recent call last)",
      "\u001b[1;32m/run/media/santa/TINDATA/coding/projects/plpc_calendar/plpc_calendar.ipynb Cell 2\u001b[0m line \u001b[0;36m<cell line: 1>\u001b[0;34m()\u001b[0m\n\u001b[0;32m----> <a href='vscode-notebook-cell:/run/media/santa/TINDATA/coding/projects/plpc_calendar/plpc_calendar.ipynb#W1sZmlsZQ%3D%3D?line=0'>1</a>\u001b[0m calendar \u001b[39m=\u001b[39m service\u001b[39m.\u001b[39mcalendars()\u001b[39m.\u001b[39mget(calendarId\u001b[39m=\u001b[39m\u001b[39m'\u001b[39m\u001b[39mprimary\u001b[39m\u001b[39m'\u001b[39m)\u001b[39m.\u001b[39mexecute()\n\u001b[1;32m      <a href='vscode-notebook-cell:/run/media/santa/TINDATA/coding/projects/plpc_calendar/plpc_calendar.ipynb#W1sZmlsZQ%3D%3D?line=2'>3</a>\u001b[0m \u001b[39mprint\u001b[39m (calendar[\u001b[39m'\u001b[39m\u001b[39msummary\u001b[39m\u001b[39m'\u001b[39m])\n",
      "\u001b[0;31mNameError\u001b[0m: name 'service' is not defined"
     ]
    }
   ],
   "source": [
    "calendar = service.calendars().get(calendarId='primary').execute()\n",
    "\n",
    "print (calendar['summary'])"
   ]
  },
  {
   "cell_type": "markdown",
   "metadata": {},
   "source": []
  }
 ],
 "metadata": {
  "kernelspec": {
   "display_name": "plpc-env",
   "language": "python",
   "name": "python3"
  },
  "language_info": {
   "codemirror_mode": {
    "name": "ipython",
    "version": 3
   },
   "file_extension": ".py",
   "mimetype": "text/x-python",
   "name": "python",
   "nbconvert_exporter": "python",
   "pygments_lexer": "ipython3",
   "version": "3.10.12"
  },
  "orig_nbformat": 4
 },
 "nbformat": 4,
 "nbformat_minor": 2
}
